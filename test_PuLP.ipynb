{
 "cells": [
  {
   "cell_type": "code",
   "execution_count": 182,
   "metadata": {},
   "outputs": [],
   "source": [
    "import math\n",
    "from datetime import datetime, date, timedelta\n",
    "import random\n",
    "import matplotlib.pyplot as plt\n",
    "from statistics import mean\n",
    "import imp\n",
    "import os\n",
    "import numpy as np\n",
    "from pulp import *\n",
    "import warnings\n",
    "\n",
    "warnings.filterwarnings('ignore')"
   ]
  },
  {
   "cell_type": "markdown",
   "metadata": {},
   "source": [
    "# Solve LP"
   ]
  },
  {
   "cell_type": "code",
   "execution_count": 190,
   "metadata": {},
   "outputs": [],
   "source": [
    "# Solve\n",
    "def solveLP(prob, LHS, RHS, W, pvt, T, K, lambd):\n",
    "    # LHS (U): server nodes, RHS (V): call type nodes, W: weights\n",
    "    # pvt: probability of v coming at time t\n",
    "    # T: time horizons, K: occupied time steps\n",
    "    # lambd: parameter for exponential distribution\n",
    "    X = [[[LpVariable(\"edge_{}_{}_{}\".format(str(u + 1), str(v + 1), str(t + 1)), lowBound=0.0, upBound=1.0,\n",
    "                      cat='Continuous') for v in RHS] for u in LHS] for t in range(T)]\n",
    "    print(np.shape(X))\n",
    "    prob += np.sum((W[t][u][v] * X[t][u][v] for v in RHS for u in LHS for t in range(T)))\n",
    "\n",
    "    # p = xp.problem(\"offline linear program\")\n",
    "    # p.addVariable(X)\n",
    "\n",
    "    # constraint 1: no customer over matched\n",
    "    for t in range(T):\n",
    "        for v in RHS:\n",
    "            prob += np.sum(X[t][u][v] for u in LHS) <= pvt[t][v]\n",
    "\n",
    "    # constraint 2: no server over matched\n",
    "    for t in range(T):\n",
    "        for u in LHS:\n",
    "            prob += np.sum(\n",
    "                X[tau][u][v] * math.exp(-lambd * (t - tau)) for v in RHS for tau in range(t - K, t)) + np.sum(\n",
    "                X[t][u][v] for v in RHS) <= 1\n",
    "\n",
    "    prob.solve()\n",
    "\n",
    "    X_unnested = prob.variables()\n",
    "    _next = 0\n",
    "\n",
    "    for u in LHS:\n",
    "        for v in RHS:\n",
    "            for t in range(T):\n",
    "                X[t][u][v] = X_unnested[_next].varValue\n",
    "                _next += 1\n",
    "\n",
    "    return X, prob.objective.value()\n",
    "    # return [v.varValue for v in prob.variables()], prob.objective.value()"
   ]
  },
  {
   "cell_type": "markdown",
   "metadata": {},
   "source": [
    "### test the offline optimal matching through solving LP"
   ]
  },
  {
   "cell_type": "code",
   "execution_count": 199,
   "metadata": {},
   "outputs": [],
   "source": [
    "# Create the 'prob' variable to contain the problem data\n",
    "prob = LpProblem(\"matching\", LpMaximize)\n",
    "# test the offline optimal\n",
    "U, V = 10, 4\n",
    "T, K = 10, 2\n",
    "lambd = 0.5\n",
    "W = [[[random.uniform(0, 1) for j in range(V)] for i in range(U)] for t in range(T)]\n",
    "pvt = [[1. / V for v in range(V)] for t in range(T)]\n",
    "LHS, RHS = range(U), range(V)"
   ]
  },
  {
   "cell_type": "code",
   "execution_count": 200,
   "metadata": {},
   "outputs": [
    {
     "name": "stdout",
     "output_type": "stream",
     "text": [
      "(100, 50, 4)\n",
      "Welcome to the CBC MILP Solver \n",
      "Version: 2.10.3 \n",
      "Build Date: Dec 15 2019 \n",
      "\n",
      "command line - /Users/haolunwu/opt/anaconda3/envs/py38/lib/python3.8/site-packages/pulp/apis/../solverdir/cbc/osx/64/cbc /var/folders/0t/55spm7k95h33phsgfwny8m600000gn/T/84879bb76c094f528132876b67ec40db-pulp.mps max timeMode elapsed branch printingOptions all solution /var/folders/0t/55spm7k95h33phsgfwny8m600000gn/T/84879bb76c094f528132876b67ec40db-pulp.sol (default strategy 1)\n",
      "At line 2 NAME          MODEL\n",
      "At line 3 ROWS\n",
      "At line 5405 COLUMNS\n",
      "At line 105406 RHS\n",
      "At line 110807 BOUNDS\n",
      "At line 130808 ENDATA\n",
      "Problem MODEL has 5400 rows, 20000 columns and 80000 elements\n",
      "Coin0008I MODEL read with 0 errors\n",
      "Option for timeMode changed from cpu to elapsed\n",
      "Presolve 5400 (0) rows, 20000 (0) columns and 80000 (0) elements\n",
      "0  Obj -0 Dual inf 10057.804 (20000)\n",
      "183  Obj 2750.6916 Primal inf 11210.246 (4712)\n",
      "366  Obj 1784.3742 Primal inf 6533.0232 (3027)\n",
      "549  Obj 444.59092 Primal inf 993.09903 (672)\n",
      "732  Obj 99.987245 Primal inf 55.142478 (63)\n",
      "797  Obj 98.1175\n",
      "Optimal - objective value 98.1175\n",
      "Optimal objective 98.11749997 - 797 iterations time 0.032\n",
      "Option for printingOptions changed from normal to all\n",
      "Total time (CPU seconds):       0.09   (Wallclock seconds):       0.12\n",
      "\n"
     ]
    }
   ],
   "source": [
    "Xopt, optimal = solveLP(prob, LHS, RHS, W, pvt, T, K, lambd)"
   ]
  },
  {
   "cell_type": "code",
   "execution_count": 186,
   "metadata": {},
   "outputs": [
    {
     "data": {
      "text/plain": "([[[0.0, 0.0, 0.0, 0.0],\n   [0.0, 0.0, 0.0, 0.0],\n   [0.0, 0.25, 0.0, 0.25],\n   [0.0, 0.0, 0.0, 0.0],\n   [0.0, 0.0, 0.25, 0.0],\n   [0.25, 0.0, 0.0, 0.0],\n   [0.0, 0.0, 0.0, 0.0],\n   [0.0, 0.0, 0.0, 0.0],\n   [0.0, 0.0, 0.0, 0.0],\n   [0.0, 0.0, 0.0, 0.0]],\n  [[0.0, 0.0, 0.0, 0.0],\n   [0.0, 0.0, 0.0, 0.0],\n   [0.0, 0.0, 0.0, 0.0],\n   [0.0, 0.0, 0.25, 0.0],\n   [0.0, 0.0, 0.0, 0.0],\n   [0.0, 0.0, 0.0, 0.0],\n   [0.25, 0.25, 0.0, 0.0],\n   [0.0, 0.0, 0.0, 0.25],\n   [0.0, 0.0, 0.0, 0.0],\n   [0.0, 0.0, 0.0, 0.0]],\n  [[0.0, 0.0, 0.0, 0.0],\n   [0.0, 0.25, 0.0, 0.0],\n   [0.0, 0.0, 0.0, 0.0],\n   [0.0, 0.0, 0.0, 0.25],\n   [0.0, 0.0, 0.25, 0.0],\n   [0.0, 0.0, 0.0, 0.0],\n   [0.0, 0.0, 0.0, 0.0],\n   [0.0, 0.0, 0.0, 0.0],\n   [0.0, 0.0, 0.0, 0.0],\n   [0.25, 0.0, 0.0, 0.0]],\n  [[0.0, 0.0, 0.25, 0.0],\n   [0.0, 0.0, 0.0, 0.0],\n   [0.0, 0.0, 0.0, 0.0],\n   [0.0, 0.0, 0.0, 0.0],\n   [0.0, 0.25, 0.0, 0.0],\n   [0.0, 0.0, 0.0, 0.25],\n   [0.25, 0.0, 0.0, 0.0],\n   [0.0, 0.0, 0.0, 0.0],\n   [0.0, 0.0, 0.0, 0.0],\n   [0.0, 0.0, 0.0, 0.0]],\n  [[0.0, 0.0, 0.0, 0.0],\n   [0.0, 0.25, 0.0, 0.0],\n   [0.0, 0.0, 0.0, 0.0],\n   [0.0, 0.0, 0.25, 0.0],\n   [0.0, 0.0, 0.0, 0.0],\n   [0.25, 0.0, 0.0, 0.0],\n   [0.0, 0.0, 0.0, 0.0],\n   [0.0, 0.0, 0.0, 0.25],\n   [0.0, 0.0, 0.0, 0.0],\n   [0.0, 0.0, 0.0, 0.0]]],\n 4.58829987214642)"
     },
     "execution_count": 186,
     "metadata": {},
     "output_type": "execute_result"
    }
   ],
   "source": [
    "Xopt, optimal"
   ]
  },
  {
   "cell_type": "code",
   "execution_count": 188,
   "outputs": [
    {
     "data": {
      "text/plain": "(5, 10, 4)"
     },
     "execution_count": 188,
     "metadata": {},
     "output_type": "execute_result"
    }
   ],
   "source": [
    "np.shape(Xopt)"
   ],
   "metadata": {
    "collapsed": false
   }
  }
 ],
 "metadata": {
  "bento_stylesheets": {
   "bento/extensions/flow/main.css": true,
   "bento/extensions/kernel_selector/main.css": true,
   "bento/extensions/kernel_ui/main.css": true,
   "bento/extensions/new_kernel/main.css": true,
   "bento/extensions/system_usage/main.css": true,
   "bento/extensions/theme/main.css": true
  },
  "disseminate_notebook_id": {
   "notebook_id": "406577163670308"
  },
  "disseminate_notebook_info": {
   "bento_version": "20201028-091155",
   "description": "This file contains a simple to use the basic-code for simulating the online reusable matching code.",
   "hide_code": false,
   "hipster_group": "",
   "kernel_build_info": {
    "deps": [],
    "external_deps": [
     "('python-xpress', '8.4.4')"
    ]
   },
   "no_uii": true,
   "notebook_number": "382172",
   "others_can_edit": true,
   "reviewers": "",
   "revision_id": "669941390617173",
   "tags": "",
   "tasks": "",
   "title": "Online Reusable Matching"
  },
  "kernelspec": {
   "display_name": "Python 3 (ipykernel)",
   "language": "python",
   "name": "python3"
  },
  "language_info": {
   "codemirror_mode": {
    "name": "ipython",
    "version": 3
   },
   "file_extension": ".py",
   "mimetype": "text/x-python",
   "name": "python",
   "nbconvert_exporter": "python",
   "pygments_lexer": "ipython3",
   "version": "3.8.13"
  }
 },
 "nbformat": 4,
 "nbformat_minor": 2
}
