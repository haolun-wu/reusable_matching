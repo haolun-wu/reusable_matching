{
 "cells": [
  {
   "cell_type": "code",
   "execution_count": 1,
   "metadata": {},
   "outputs": [
    {
     "name": "stderr",
     "output_type": "stream",
     "text": [
      "/var/folders/0t/55spm7k95h33phsgfwny8m600000gn/T/ipykernel_89523/2354497342.py:6: DeprecationWarning: the imp module is deprecated in favour of importlib; see the module's documentation for alternative uses\n",
      "  import imp\n"
     ]
    }
   ],
   "source": [
    "import math\n",
    "from datetime import datetime, date, timedelta\n",
    "import random\n",
    "import matplotlib.pyplot as plt\n",
    "from statistics import mean\n",
    "import imp\n",
    "import os\n",
    "import numpy as np\n",
    "from pulp import *\n",
    "import warnings\n",
    "from scipy.special import softmax\n",
    "\n",
    "from haolun_algorithm.offline_LP import offline_LP\n",
    "from haolun_algorithm.online_ADAP import online_ADAP\n",
    "from haolun_algorithm.online_Greedy import online_Greedy\n",
    "\n",
    "warnings.filterwarnings('ignore')"
   ]
  },
  {
   "cell_type": "code",
   "execution_count": 2,
   "metadata": {},
   "outputs": [],
   "source": [
    "\"\"\"\n",
    "Simulate all the needed information\n",
    "# LHS (U): server nodes, RHS (V): call type nodes, W: weights\n",
    "# pvt: probability of v coming at time t\n",
    "# T: time horizons, K: occupied time steps\n",
    "# lambd: parameter for exponential distribution\n",
    "\"\"\"\n",
    "# Create the 'prob' variable to contain the problem data\n",
    "prob = LpProblem(\"matching\", LpMaximize)\n",
    "# test the offline optimal\n",
    "U, V = 6, 4\n",
    "T, K = 5, 2\n",
    "lambd = 0.5\n",
    "W = np.array([[[random.uniform(0, 1) for j in range(V)] for i in range(U)] for t in range(T)])\n",
    "pvt = [[1. / V for v in range(V)] for t in range(T)]\n",
    "LHS, RHS = range(U), range(V)"
   ]
  },
  {
   "cell_type": "code",
   "execution_count": 3,
   "metadata": {},
   "outputs": [
    {
     "name": "stdout",
     "output_type": "stream",
     "text": [
      "(5, 6, 4)\n",
      "Welcome to the CBC MILP Solver \n",
      "Version: 2.10.3 \n",
      "Build Date: Dec 15 2019 \n",
      "\n",
      "command line - /Users/haolunwu/opt/anaconda3/envs/py38/lib/python3.8/site-packages/pulp/apis/../solverdir/cbc/osx/64/cbc /var/folders/0t/55spm7k95h33phsgfwny8m600000gn/T/f9b6061da67348ab845d69667a3f16ae-pulp.mps max timeMode elapsed branch printingOptions all solution /var/folders/0t/55spm7k95h33phsgfwny8m600000gn/T/f9b6061da67348ab845d69667a3f16ae-pulp.sol (default strategy 1)\n",
      "At line 2 NAME          MODEL\n",
      "At line 3 ROWS\n",
      "At line 55 COLUMNS\n",
      "At line 656 RHS\n",
      "At line 707 BOUNDS\n",
      "At line 828 ENDATA\n",
      "Problem MODEL has 50 rows, 120 columns and 480 elements\n",
      "Coin0008I MODEL read with 0 errors\n",
      "Option for timeMode changed from cpu to elapsed\n",
      "Presolve 50 (0) rows, 120 (0) columns and 480 (0) elements\n",
      "0  Obj -0 Dual inf 59.665944 (120)\n",
      "34  Obj 7.0644089 Primal inf 14.374998 (19)\n",
      "61  Obj 4.3432703\n",
      "Optimal - objective value 4.3432703\n",
      "Optimal objective 4.343270328 - 61 iterations time 0.002\n",
      "Option for printingOptions changed frooffline weight: 4.343270327813164\n",
      "m normal to all\n",
      "Total time (CPU seconds):       0.00   (Wallclock seconds):       0.01\n",
      "\n"
     ]
    }
   ],
   "source": [
    "\"\"\"\n",
    "Offline optimal\n",
    "\"\"\"\n",
    "Xopt, optimal = offline_LP(prob, LHS, RHS, W, pvt, T, K, lambd)\n",
    "print(\"offline weight:\", optimal)"
   ]
  },
  {
   "cell_type": "code",
   "execution_count": 4,
   "metadata": {},
   "outputs": [
    {
     "data": {
      "text/plain": "[[[0.0, 0.0, 0.25, 0.25],\n  [0.25, 0.0, 0.0, 0.0],\n  [0.0, 0.0, 0.0, 0.0],\n  [0.0, 0.0, 0.0, 0.0],\n  [0.0, 0.25, 0.0, 0.0],\n  [0.0, 0.0, 0.0, 0.0]],\n [[0.0, 0.0, 0.25, 0.25],\n  [0.25, 0.0, 0.0, 0.0],\n  [0.0, 0.0, 0.0, 0.0],\n  [0.0, 0.25, 0.0, 0.0],\n  [0.0, 0.0, 0.0, 0.0],\n  [0.0, 0.0, 0.0, 0.0]],\n [[0.0, 0.0, 0.0, 0.0],\n  [0.0, 0.0, 0.25, 0.0],\n  [0.25, 0.25, 0.0, 0.0],\n  [0.0, 0.0, 0.0, 0.0],\n  [0.0, 0.0, 0.0, 0.25],\n  [0.0, 0.0, 0.0, 0.0]],\n [[0.25, 0.25, 0.0, 0.0],\n  [0.0, 0.0, 0.25, 0.25],\n  [0.0, 0.0, 0.0, 0.0],\n  [0.0, 0.0, 0.0, 0.0],\n  [0.0, 0.0, 0.0, 0.0],\n  [0.0, 0.0, 0.0, 0.0]],\n [[0.0, 0.0, 0.0, 0.0],\n  [0.0, 0.0, 0.0, 0.25],\n  [0.25, 0.25, 0.0, 0.0],\n  [0.0, 0.0, 0.0, 0.0],\n  [0.0, 0.0, 0.0, 0.0],\n  [0.0, 0.0, 0.25, 0.0]]]"
     },
     "execution_count": 4,
     "metadata": {},
     "output_type": "execute_result"
    }
   ],
   "source": [
    "Xopt"
   ]
  },
  {
   "cell_type": "code",
   "execution_count": 5,
   "metadata": {},
   "outputs": [
    {
     "name": "stdout",
     "output_type": "stream",
     "text": [
      "constraint 1: no customer over matched\n",
      "True\n",
      "True\n",
      "True\n",
      "True\n",
      "True\n",
      "True\n",
      "True\n",
      "True\n",
      "True\n",
      "True\n",
      "True\n",
      "True\n",
      "True\n",
      "True\n",
      "True\n",
      "True\n",
      "True\n",
      "True\n",
      "True\n",
      "True\n",
      "constraint 2: no server over matched\n",
      "True\n",
      "True\n",
      "True\n",
      "True\n",
      "True\n",
      "True\n",
      "True\n",
      "True\n",
      "True\n",
      "True\n",
      "True\n",
      "True\n",
      "True\n",
      "True\n",
      "True\n",
      "True\n",
      "True\n",
      "True\n",
      "True\n",
      "True\n",
      "True\n",
      "True\n",
      "True\n",
      "True\n",
      "True\n",
      "True\n",
      "True\n",
      "True\n",
      "True\n",
      "True\n"
     ]
    }
   ],
   "source": [
    "\"\"\"Check constraint\"\"\"\n",
    "print(\"constraint 1: no customer over matched\")\n",
    "for t in range(T):\n",
    "    for v in RHS:\n",
    "        print(np.sum(Xopt[t][u][v] for u in LHS) <= 1)\n",
    "        \n",
    "print(\"constraint 2: no server over matched\")\n",
    "for t in range(T):\n",
    "    for u in LHS:\n",
    "        print(np.sum(\n",
    "                Xopt[tau][u][v] * math.exp(-lambd * (t - tau)) for v in RHS for tau in range(t - K, t)) + np.sum(\n",
    "                Xopt[t][u][v] for v in RHS) <= 1)\n",
    "#         print(np.sum(Xopt[tau][u][v] for v in RHS for tau in range(t - K, t)) \n",
    "#               + np.sum(Xopt[t][u][v] for v in RHS) <= 1)"
   ]
  },
  {
   "cell_type": "code",
   "execution_count": 37,
   "metadata": {},
   "outputs": [
    {
     "name": "stdout",
     "output_type": "stream",
     "text": [
      "True\n",
      "True\n",
      "True\n",
      "True\n",
      "True\n",
      "True\n",
      "True\n",
      "True\n",
      "True\n",
      "True\n",
      "True\n",
      "True\n",
      "True\n",
      "True\n",
      "True\n",
      "True\n",
      "True\n",
      "True\n",
      "True\n",
      "True\n",
      "True\n",
      "True\n",
      "True\n",
      "True\n",
      "True\n",
      "True\n",
      "True\n",
      "True\n",
      "True\n",
      "True\n"
     ]
    }
   ],
   "source": []
  },
  {
   "cell_type": "code",
   "execution_count": 6,
   "metadata": {},
   "outputs": [
    {
     "name": "stdout",
     "output_type": "stream",
     "text": [
      "W_curr: [0.49024321 0.97549946 0.91603154 0.90569069 0.31643436 0.03760273]\n",
      "W_curr: [0.29074924 0.25520005 0.60648162 0.86325801 0.12422612 0.49475292]\n",
      "W_curr: [0.11625099 0.289233   0.49870788 0.7956885  0.87044615 0.8635539 ]\n",
      "W_curr: [0.27176888 0.90012678 0.22877167 0.21786354 0.20407346 0.35344895]\n",
      "W_curr: [0.37445059 0.73983923 0.62399429 0.36832302 0.00471047 0.19503592]\n"
     ]
    }
   ],
   "source": [
    "def sampleArrival(pv, RHS):\n",
    "    r = random.uniform(0, 1)\n",
    "    cur_sum = 0\n",
    "    for cur_v in RHS:\n",
    "        cur_sum += pv[cur_v]\n",
    "        if r <= cur_sum:\n",
    "            return cur_v\n",
    "    return len(RHS) - 1\n",
    "\n",
    "\n",
    "simulate_cur_v = []\n",
    "for t in range(T):\n",
    "    p_v = pvt[t]\n",
    "    simulate_cur_v.append(sampleArrival(p_v, RHS))\n",
    "\n",
    "\n",
    "for i in range(T):\n",
    "    print(\"W_curr:\", W[i][:,simulate_cur_v[i]])"
   ]
  },
  {
   "cell_type": "code",
   "execution_count": null,
   "metadata": {},
   "outputs": [],
   "source": []
  },
  {
   "cell_type": "code",
   "execution_count": 8,
   "metadata": {},
   "outputs": [
    {
     "name": "stdout",
     "output_type": "stream",
     "text": [
      "weight_avg_greedy: 4.215833865170753\n"
     ]
    }
   ],
   "source": [
    "\"\"\"\n",
    "# Greedy\n",
    "# \"\"\"\n",
    "run=1\n",
    "weight_avg_greedy = 0\n",
    "for _ in range(run):\n",
    "    matched_pairs, online_Greedy_weight = online_Greedy(LHS, RHS, W, pvt, T, K, Xopt)\n",
    "    weight_avg_greedy += online_Greedy_weight\n",
    "print(\"weight_avg_greedy:\", weight_avg_greedy / run)"
   ]
  },
  {
   "cell_type": "code",
   "execution_count": 9,
   "metadata": {},
   "outputs": [
    {
     "data": {
      "text/plain": "{0: (1, 2), 1: (3, 1), 2: (4, 3), 3: (0, 1), 4: (5, 2)}"
     },
     "execution_count": 9,
     "metadata": {},
     "output_type": "execute_result"
    }
   ],
   "source": [
    "matched_pairs"
   ]
  },
  {
   "cell_type": "code",
   "execution_count": 10,
   "metadata": {},
   "outputs": [
    {
     "data": {
      "text/plain": "[[[0, 0, 0, 0],\n  [0, 0, 1, 0],\n  [0, 0, 0, 0],\n  [0, 0, 0, 0],\n  [0, 0, 0, 0],\n  [0, 0, 0, 0]],\n [[0, 0, 0, 0],\n  [0, 0, 0, 0],\n  [0, 0, 0, 0],\n  [0, 1, 0, 0],\n  [0, 0, 0, 0],\n  [0, 0, 0, 0]],\n [[0, 0, 0, 0],\n  [0, 0, 0, 0],\n  [0, 0, 0, 0],\n  [0, 0, 0, 0],\n  [0, 0, 0, 1],\n  [0, 0, 0, 0]],\n [[0, 1, 0, 0],\n  [0, 0, 0, 0],\n  [0, 0, 0, 0],\n  [0, 0, 0, 0],\n  [0, 0, 0, 0],\n  [0, 0, 0, 0]],\n [[0, 0, 0, 0],\n  [0, 0, 0, 0],\n  [0, 0, 0, 0],\n  [0, 0, 0, 0],\n  [0, 0, 0, 0],\n  [0, 0, 1, 0]]]"
     },
     "execution_count": 10,
     "metadata": {},
     "output_type": "execute_result"
    }
   ],
   "source": [
    "greedy_x = [[[0 for j in range(V)] for i in range(U)] for t in range(T)]\n",
    "for t in matched_pairs:\n",
    "    (i, j) = matched_pairs[t]\n",
    "    greedy_x[t][i][j]=1\n",
    "greedy_x"
   ]
  },
  {
   "cell_type": "code",
   "execution_count": 11,
   "metadata": {},
   "outputs": [
    {
     "data": {
      "text/plain": "4.215833865170753"
     },
     "execution_count": 11,
     "metadata": {},
     "output_type": "execute_result"
    }
   ],
   "source": [
    "res_greedy = 0\n",
    "for t in range(T):\n",
    "    for u in LHS:\n",
    "        for v in RHS:\n",
    "            res_greedy += W[t][u][v] * greedy_x[t][u][v]\n",
    "res_greedy\n",
    "            "
   ]
  },
  {
   "cell_type": "code",
   "execution_count": 12,
   "metadata": {},
   "outputs": [
    {
     "name": "stdout",
     "output_type": "stream",
     "text": [
      "constraint 1: no customer over matched\n",
      "True\n",
      "True\n",
      "False\n",
      "True\n",
      "True\n",
      "False\n",
      "True\n",
      "True\n",
      "True\n",
      "True\n",
      "True\n",
      "False\n",
      "True\n",
      "False\n",
      "True\n",
      "True\n",
      "True\n",
      "True\n",
      "False\n",
      "True\n",
      "constraint 2: no server over matched\n",
      "True\n",
      "True\n",
      "True\n",
      "True\n",
      "True\n",
      "True\n",
      "True\n",
      "True\n",
      "True\n",
      "True\n",
      "True\n",
      "True\n",
      "True\n",
      "True\n",
      "True\n",
      "True\n",
      "True\n",
      "True\n",
      "True\n",
      "True\n",
      "True\n",
      "True\n",
      "True\n",
      "True\n",
      "True\n",
      "True\n",
      "True\n",
      "True\n",
      "True\n",
      "True\n"
     ]
    }
   ],
   "source": [
    "\"\"\"Check constraint\"\"\"\n",
    "print(\"constraint 1: no customer over matched\")\n",
    "for t in range(T):\n",
    "    for v in RHS:\n",
    "        print(np.sum(greedy_x[t][u][v] for u in LHS) <= pvt[t][v])\n",
    "        \n",
    "print(\"constraint 2: no server over matched\")\n",
    "for t in range(T):\n",
    "    for u in LHS:\n",
    "        # prob += np.sum(\n",
    "        #     X[tau][u][v] * math.exp(-lambd * (t - tau)) for v in RHS for tau in range(t - K, t)) + np.sum(\n",
    "        #     X[t][u][v] for v in RHS) <= 1\n",
    "        print(np.sum(greedy_x[tau][u][v] for v in RHS for tau in range(t - K, t)) \n",
    "              + np.sum(greedy_x[t][u][v] for v in RHS) <= 1)"
   ]
  },
  {
   "cell_type": "code",
   "execution_count": null,
   "metadata": {},
   "outputs": [],
   "source": []
  },
  {
   "cell_type": "code",
   "execution_count": null,
   "metadata": {},
   "outputs": [],
   "source": []
  }
 ],
 "metadata": {
  "bento_stylesheets": {
   "bento/extensions/flow/main.css": true,
   "bento/extensions/kernel_selector/main.css": true,
   "bento/extensions/kernel_ui/main.css": true,
   "bento/extensions/new_kernel/main.css": true,
   "bento/extensions/system_usage/main.css": true,
   "bento/extensions/theme/main.css": true
  },
  "disseminate_notebook_id": {
   "notebook_id": "406577163670308"
  },
  "disseminate_notebook_info": {
   "bento_version": "20201028-091155",
   "description": "This file contains a simple to use the basic-code for simulating the online reusable matching code.",
   "hide_code": false,
   "hipster_group": "",
   "kernel_build_info": {
    "deps": [],
    "external_deps": [
     "('python-xpress', '8.4.4')"
    ]
   },
   "no_uii": true,
   "notebook_number": "382172",
   "others_can_edit": true,
   "reviewers": "",
   "revision_id": "669941390617173",
   "tags": "",
   "tasks": "",
   "title": "Online Reusable Matching"
  },
  "kernelspec": {
   "display_name": "Python 3 (ipykernel)",
   "language": "python",
   "name": "python3"
  },
  "language_info": {
   "codemirror_mode": {
    "name": "ipython",
    "version": 3
   },
   "file_extension": ".py",
   "mimetype": "text/x-python",
   "name": "python",
   "nbconvert_exporter": "python",
   "pygments_lexer": "ipython3",
   "version": "3.8.13"
  }
 },
 "nbformat": 4,
 "nbformat_minor": 2
}
